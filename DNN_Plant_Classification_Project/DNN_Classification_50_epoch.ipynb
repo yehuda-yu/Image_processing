{
  "nbformat": 4,
  "nbformat_minor": 0,
  "metadata": {
    "colab": {
      "name": "DNN_Classification_50_epoch.ipynb",
      "provenance": []
    },
    "kernelspec": {
      "name": "python3",
      "display_name": "Python 3"
    },
    "language_info": {
      "name": "python"
    },
    "accelerator": "GPU"
  },
  "cells": [
    {
      "cell_type": "code",
      "execution_count": null,
      "metadata": {
        "colab": {
          "base_uri": "https://localhost:8080/"
        },
        "id": "WoA6w6TQB5y_",
        "outputId": "2121c99b-2f26-4811-acc3-0e938d426efb"
      },
      "outputs": [
        {
          "output_type": "stream",
          "name": "stdout",
          "text": [
            "TF version: 2.7.0\n",
            "Hub version: 0.12.0\n",
            "GPU is available\n"
          ]
        }
      ],
      "source": [
        "import itertools\n",
        "import os\n",
        "\n",
        "import matplotlib.pylab as plt\n",
        "import numpy as np\n",
        "\n",
        "import tensorflow as tf\n",
        "import tensorflow_hub as hub\n",
        "\n",
        "print(\"TF version:\", tf.__version__)\n",
        "print(\"Hub version:\", hub.__version__)\n",
        "print(\"GPU is\", \"available\" if tf.config.list_physical_devices('GPU') else \"NOT AVAILABLE\")"
      ]
    },
    {
      "cell_type": "code",
      "source": [
        "# import the libraries as shown below\n",
        "\n",
        "from tensorflow.keras.layers import Input, Lambda, Dense, Flatten\n",
        "from tensorflow.keras.models import Model\n",
        "from tensorflow.keras import models, layers\n",
        "from tensorflow.keras.applications.inception_v3 import InceptionV3\n",
        "from keras.applications.vgg16 import VGG16\n",
        "from tensorflow.keras.applications.inception_v3 import preprocess_input\n",
        "from tensorflow.keras.preprocessing import image\n",
        "from tensorflow.keras.preprocessing.image import ImageDataGenerator,load_img\n",
        "from tensorflow.keras.models import Sequential\n",
        "import numpy as np\n",
        "from glob import glob\n",
        "import matplotlib.pyplot as plt"
      ],
      "metadata": {
        "id": "lh1lUZFUtreQ"
      },
      "execution_count": null,
      "outputs": []
    },
    {
      "cell_type": "code",
      "source": [
        "BATCH_SIZE = 32\n",
        "IMAGE_SIZE = 256\n",
        "CHANNELS=3\n",
        "EPOCHS=50"
      ],
      "metadata": {
        "id": "o6tOF6Gntt45"
      },
      "execution_count": null,
      "outputs": []
    },
    {
      "cell_type": "code",
      "source": [
        "dataset = tf.keras.preprocessing.image_dataset_from_directory(\n",
        "    \"/content/drive/Othercomputers/My Computer/Desktop/Greenwall/pictures/RGB_wall/training\",\n",
        "    seed=123,\n",
        "    shuffle=True,\n",
        "    image_size=(IMAGE_SIZE,IMAGE_SIZE),\n",
        "    batch_size=BATCH_SIZE\n",
        ")"
      ],
      "metadata": {
        "colab": {
          "base_uri": "https://localhost:8080/"
        },
        "id": "ya8HM60EFuHf",
        "outputId": "18be229a-c8ce-4114-8c02-2213589a67fa"
      },
      "execution_count": null,
      "outputs": [
        {
          "output_type": "stream",
          "name": "stdout",
          "text": [
            "Found 6171 files belonging to 6 classes.\n"
          ]
        }
      ]
    },
    {
      "cell_type": "code",
      "source": [
        "# let's check the cllasses names:\n",
        "class_names = dataset.class_names\n",
        "class_names"
      ],
      "metadata": {
        "colab": {
          "base_uri": "https://localhost:8080/"
        },
        "id": "uRKqXxgZt07k",
        "outputId": "43c088ad-2d12-44ba-966a-4d682c353502"
      },
      "execution_count": null,
      "outputs": [
        {
          "output_type": "execute_result",
          "data": {
            "text/plain": [
              "['Chlorophitum',\n",
              " 'Monalisa',\n",
              " 'Peperomia',\n",
              " 'Philodendron',\n",
              " 'Spathiphyllum',\n",
              " 'Tradescantia']"
            ]
          },
          "metadata": {},
          "execution_count": 5
        }
      ]
    },
    {
      "cell_type": "code",
      "source": [
        "# Now all the data is arrange in  batches:\n",
        "for image_batch, labels_batch in dataset.take(1):\n",
        "    print(image_batch.shape) # shape of the batch (count, size, channels)\n",
        "    print(labels_batch.numpy()) #(label = class)"
      ],
      "metadata": {
        "colab": {
          "base_uri": "https://localhost:8080/"
        },
        "id": "cfSSWqqmt3zb",
        "outputId": "9b3060d5-f7a6-4fad-ddf5-d4b84026b931"
      },
      "execution_count": null,
      "outputs": [
        {
          "output_type": "stream",
          "name": "stdout",
          "text": [
            "(32, 256, 256, 3)\n",
            "[0 0 4 1 3 4 5 4 5 5 2 3 3 5 2 1 5 1 5 3 4 3 3 3 4 2 3 4 2 0 1 3]\n"
          ]
        }
      ]
    },
    {
      "cell_type": "code",
      "source": [
        "# function who split the data into train set and vlidation set:\n",
        "# when we dont want to split the data we eill use dataset = train_ds\n",
        "def get_dataset_partitions_tf(ds, train_split=0.9, val_split=0.1, shuffle=True, shuffle_size=10000):\n",
        "    assert (train_split + val_split) == 1\n",
        "    \n",
        "    ds_size = len(ds)\n",
        "    \n",
        "    if shuffle:\n",
        "        ds = ds.shuffle(shuffle_size, seed=12)\n",
        "    \n",
        "    train_size = int(train_split * ds_size)\n",
        "    val_size = int(val_split * ds_size)\n",
        "    \n",
        "    train_ds = ds.take(train_size)    \n",
        "    val_ds = ds.skip(train_size).take(val_size)\n",
        "\n",
        "    \n",
        "    return train_ds, val_ds"
      ],
      "metadata": {
        "id": "ax2qt42Qt6E7"
      },
      "execution_count": null,
      "outputs": []
    },
    {
      "cell_type": "code",
      "source": [
        "train_ds, val_ds = get_dataset_partitions_tf(dataset) # apply the function om our dataset"
      ],
      "metadata": {
        "id": "2vXSpTLmt86Y"
      },
      "execution_count": null,
      "outputs": []
    },
    {
      "cell_type": "code",
      "source": [
        "# if we want to valid the model with different images (model 2):\n",
        "train_ds = dataset\n",
        "val_ds = tf.keras.preprocessing.image_dataset_from_directory(\n",
        "    \"/content/drive/Othercomputers/My Computer/Desktop/Greenwall/pictures/RGB_wall/validation\",\n",
        "    seed=123,\n",
        "    shuffle=True,\n",
        "    image_size=(IMAGE_SIZE,IMAGE_SIZE),\n",
        "    batch_size=BATCH_SIZE\n",
        ")"
      ],
      "metadata": {
        "colab": {
          "base_uri": "https://localhost:8080/"
        },
        "id": "oYEpJreOuFMX",
        "outputId": "db0ddb0b-ccce-4685-db7f-e80decc43c93"
      },
      "execution_count": null,
      "outputs": [
        {
          "output_type": "stream",
          "name": "stdout",
          "text": [
            "Found 621 files belonging to 6 classes.\n"
          ]
        }
      ]
    },
    {
      "cell_type": "code",
      "source": [
        "# now we want to import the test set that we created in seperate:\n",
        "test_ds = tf.keras.preprocessing.image_dataset_from_directory(\n",
        "    \"/content/drive/Othercomputers/My Computer/Desktop/Greenwall/pictures/RGB_wall/test\",\n",
        "    seed=123,\n",
        "    shuffle=False, #keep it false for the confiusion matrix\n",
        "    image_size=(IMAGE_SIZE,IMAGE_SIZE),\n",
        "    batch_size=BATCH_SIZE\n",
        ")"
      ],
      "metadata": {
        "colab": {
          "base_uri": "https://localhost:8080/"
        },
        "id": "0W4mNm3duHdq",
        "outputId": "e9bba8ad-edd2-49e5-be38-a24a46687e8b"
      },
      "execution_count": null,
      "outputs": [
        {
          "output_type": "stream",
          "name": "stdout",
          "text": [
            "Found 107 files belonging to 6 classes.\n"
          ]
        }
      ]
    },
    {
      "cell_type": "code",
      "source": [
        "# prefetch - using the cpu to read the data ang gpu to train simultany - save time/\n",
        "# cache - save time while loading the images\n",
        "train_ds = train_ds.cache().shuffle(1000).prefetch(buffer_size=tf.data.AUTOTUNE)\n",
        "val_ds = val_ds.cache().shuffle(1000).prefetch(buffer_size=tf.data.AUTOTUNE)\n",
        "test_ds = test_ds.cache().shuffle(1000).prefetch(buffer_size=tf.data.AUTOTUNE)"
      ],
      "metadata": {
        "id": "XiAjlXSPuKDm"
      },
      "execution_count": null,
      "outputs": []
    },
    {
      "cell_type": "code",
      "source": [
        "train_ds"
      ],
      "metadata": {
        "colab": {
          "base_uri": "https://localhost:8080/"
        },
        "id": "FZJ_IngcuUy3",
        "outputId": "37519a62-a510-4db5-e1ef-57f4abb6c4d3"
      },
      "execution_count": null,
      "outputs": [
        {
          "output_type": "execute_result",
          "data": {
            "text/plain": [
              "<PrefetchDataset shapes: ((None, 256, 256, 3), (None,)), types: (tf.float32, tf.int32)>"
            ]
          },
          "metadata": {},
          "execution_count": 12
        }
      ]
    },
    {
      "cell_type": "code",
      "source": [
        "# resize to 256*256, rescale the values\n",
        "\n",
        "resize_and_rescale = tf.keras.Sequential([\n",
        "  layers.experimental.preprocessing.Resizing(IMAGE_SIZE, IMAGE_SIZE),\n",
        "  layers.experimental.preprocessing.Rescaling(1./255),\n",
        "])"
      ],
      "metadata": {
        "id": "PbBEltFHulMj"
      },
      "execution_count": null,
      "outputs": []
    },
    {
      "cell_type": "code",
      "source": [
        "# flip the images for improving the accuracy of the model\n",
        "data_augmentation = tf.keras.Sequential([\n",
        "  layers.experimental.preprocessing.RandomFlip(\"horizontal_and_vertical\"),\n",
        "  layers.experimental.preprocessing.RandomRotation(0.2),\n",
        "])"
      ],
      "metadata": {
        "id": "Bt05Ilayu1yw"
      },
      "execution_count": null,
      "outputs": []
    },
    {
      "cell_type": "code",
      "source": [
        "# Applying Data Augmentation to Train Dataset\n",
        "train_ds = train_ds.map(\n",
        "    lambda x, y: (data_augmentation(x, training=True), y)\n",
        ").prefetch(buffer_size=tf.data.AUTOTUNE)"
      ],
      "metadata": {
        "id": "difFkr05u3xV"
      },
      "execution_count": null,
      "outputs": []
    },
    {
      "cell_type": "code",
      "source": [
        "input_shape = (BATCH_SIZE, IMAGE_SIZE, IMAGE_SIZE, CHANNELS)\n",
        "n_classes = 6\n",
        "\n",
        "model = models.Sequential([\n",
        "    resize_and_rescale,\n",
        "    layers.Conv2D(32, kernel_size = (3,3), activation='relu', input_shape=input_shape),\n",
        "    layers.MaxPooling2D((2, 2)),\n",
        "    layers.Conv2D(64,  kernel_size = (3,3), activation='relu'),\n",
        "    layers.MaxPooling2D((2, 2)),\n",
        "    layers.Conv2D(64,  kernel_size = (3,3), activation='relu'),\n",
        "    layers.MaxPooling2D((2, 2)),\n",
        "    layers.Conv2D(64, (3, 3), activation='relu'),\n",
        "    layers.MaxPooling2D((2, 2)),\n",
        "    layers.Conv2D(64, (3, 3), activation='relu'),\n",
        "    layers.MaxPooling2D((2, 2)),\n",
        "    layers.Conv2D(64, (3, 3), activation='relu'),\n",
        "    layers.MaxPooling2D((2, 2)),\n",
        "    layers.Flatten(),\n",
        "    layers.Dense(64, activation='relu'),\n",
        "    layers.Dense(n_classes, activation='softmax'),\n",
        "])\n",
        "\n",
        "model.build(input_shape=input_shape)"
      ],
      "metadata": {
        "id": "ieYOpHWnu5OR"
      },
      "execution_count": null,
      "outputs": []
    },
    {
      "cell_type": "code",
      "source": [
        "model.summary()"
      ],
      "metadata": {
        "colab": {
          "base_uri": "https://localhost:8080/"
        },
        "id": "dUorts2SvDDb",
        "outputId": "754cb1ba-d9ab-4ab7-b309-e06462f6e29e"
      },
      "execution_count": null,
      "outputs": [
        {
          "output_type": "stream",
          "name": "stdout",
          "text": [
            "Model: \"sequential_2\"\n",
            "_________________________________________________________________\n",
            " Layer (type)                Output Shape              Param #   \n",
            "=================================================================\n",
            " sequential (Sequential)     (32, 256, 256, 3)         0         \n",
            "                                                                 \n",
            " conv2d (Conv2D)             (32, 254, 254, 32)        896       \n",
            "                                                                 \n",
            " max_pooling2d (MaxPooling2D  (32, 127, 127, 32)       0         \n",
            " )                                                               \n",
            "                                                                 \n",
            " conv2d_1 (Conv2D)           (32, 125, 125, 64)        18496     \n",
            "                                                                 \n",
            " max_pooling2d_1 (MaxPooling  (32, 62, 62, 64)         0         \n",
            " 2D)                                                             \n",
            "                                                                 \n",
            " conv2d_2 (Conv2D)           (32, 60, 60, 64)          36928     \n",
            "                                                                 \n",
            " max_pooling2d_2 (MaxPooling  (32, 30, 30, 64)         0         \n",
            " 2D)                                                             \n",
            "                                                                 \n",
            " conv2d_3 (Conv2D)           (32, 28, 28, 64)          36928     \n",
            "                                                                 \n",
            " max_pooling2d_3 (MaxPooling  (32, 14, 14, 64)         0         \n",
            " 2D)                                                             \n",
            "                                                                 \n",
            " conv2d_4 (Conv2D)           (32, 12, 12, 64)          36928     \n",
            "                                                                 \n",
            " max_pooling2d_4 (MaxPooling  (32, 6, 6, 64)           0         \n",
            " 2D)                                                             \n",
            "                                                                 \n",
            " conv2d_5 (Conv2D)           (32, 4, 4, 64)            36928     \n",
            "                                                                 \n",
            " max_pooling2d_5 (MaxPooling  (32, 2, 2, 64)           0         \n",
            " 2D)                                                             \n",
            "                                                                 \n",
            " flatten (Flatten)           (32, 256)                 0         \n",
            "                                                                 \n",
            " dense (Dense)               (32, 64)                  16448     \n",
            "                                                                 \n",
            " dense_1 (Dense)             (32, 6)                   390       \n",
            "                                                                 \n",
            "=================================================================\n",
            "Total params: 183,942\n",
            "Trainable params: 183,942\n",
            "Non-trainable params: 0\n",
            "_________________________________________________________________\n"
          ]
        }
      ]
    },
    {
      "cell_type": "code",
      "source": [
        "model.compile(\n",
        "    optimizer='adam',\n",
        "    loss=tf.keras.losses.SparseCategoricalCrossentropy(from_logits=False),\n",
        "    metrics=['accuracy']\n",
        ")"
      ],
      "metadata": {
        "id": "p_ftpryqvFOg"
      },
      "execution_count": null,
      "outputs": []
    },
    {
      "cell_type": "code",
      "source": [
        "history = model.fit(\n",
        "    train_ds,\n",
        "    batch_size=BATCH_SIZE,\n",
        "    validation_data=val_ds,\n",
        "    verbose=1,\n",
        "    epochs=50,\n",
        ")"
      ],
      "metadata": {
        "colab": {
          "base_uri": "https://localhost:8080/"
        },
        "id": "NAOBi2ArvIxy",
        "outputId": "c440da49-5caa-4389-a186-3c48ad86fb6d"
      },
      "execution_count": null,
      "outputs": [
        {
          "output_type": "stream",
          "name": "stdout",
          "text": [
            "Epoch 1/50\n",
            "193/193 [==============================] - 762s 939ms/step - loss: 0.8250 - accuracy: 0.6425 - val_loss: 0.9860 - val_accuracy: 0.6940\n",
            "Epoch 2/50\n",
            "193/193 [==============================] - 62s 319ms/step - loss: 0.2890 - accuracy: 0.8911 - val_loss: 2.2510 - val_accuracy: 0.5958\n",
            "Epoch 3/50\n",
            "193/193 [==============================] - 62s 319ms/step - loss: 0.1358 - accuracy: 0.9493 - val_loss: 1.5169 - val_accuracy: 0.7343\n",
            "Epoch 4/50\n",
            "193/193 [==============================] - 61s 317ms/step - loss: 0.0923 - accuracy: 0.9692 - val_loss: 0.8977 - val_accuracy: 0.8357\n",
            "Epoch 5/50\n",
            "193/193 [==============================] - 61s 317ms/step - loss: 0.0648 - accuracy: 0.9768 - val_loss: 0.9859 - val_accuracy: 0.8422\n",
            "Epoch 6/50\n",
            "193/193 [==============================] - 62s 321ms/step - loss: 0.0296 - accuracy: 0.9929 - val_loss: 1.6646 - val_accuracy: 0.8035\n",
            "Epoch 7/50\n",
            "193/193 [==============================] - 61s 318ms/step - loss: 0.0497 - accuracy: 0.9833 - val_loss: 1.5850 - val_accuracy: 0.8003\n",
            "Epoch 8/50\n",
            "193/193 [==============================] - 61s 315ms/step - loss: 0.0077 - accuracy: 0.9984 - val_loss: 1.0736 - val_accuracy: 0.8486\n",
            "Epoch 9/50\n",
            "193/193 [==============================] - 61s 314ms/step - loss: 0.0492 - accuracy: 0.9831 - val_loss: 1.6372 - val_accuracy: 0.8390\n",
            "Epoch 10/50\n",
            "193/193 [==============================] - 60s 311ms/step - loss: 0.0094 - accuracy: 0.9968 - val_loss: 1.1932 - val_accuracy: 0.8438\n",
            "Epoch 11/50\n",
            "193/193 [==============================] - 61s 314ms/step - loss: 0.0243 - accuracy: 0.9929 - val_loss: 2.0169 - val_accuracy: 0.8309\n",
            "Epoch 12/50\n",
            "193/193 [==============================] - 61s 313ms/step - loss: 5.6354e-04 - accuracy: 1.0000 - val_loss: 2.3411 - val_accuracy: 0.8325\n",
            "Epoch 13/50\n",
            "193/193 [==============================] - 61s 315ms/step - loss: 1.8822e-04 - accuracy: 1.0000 - val_loss: 2.7666 - val_accuracy: 0.8052\n",
            "Epoch 14/50\n",
            "193/193 [==============================] - 61s 314ms/step - loss: 2.2323e-04 - accuracy: 1.0000 - val_loss: 2.3576 - val_accuracy: 0.8325\n",
            "Epoch 15/50\n",
            "193/193 [==============================] - 60s 312ms/step - loss: 6.6136e-05 - accuracy: 1.0000 - val_loss: 2.5063 - val_accuracy: 0.8277\n",
            "Epoch 16/50\n",
            "193/193 [==============================] - 61s 316ms/step - loss: 8.8176e-05 - accuracy: 1.0000 - val_loss: 2.7076 - val_accuracy: 0.8229\n",
            "Epoch 17/50\n",
            "193/193 [==============================] - 61s 318ms/step - loss: 4.2078e-05 - accuracy: 1.0000 - val_loss: 2.6946 - val_accuracy: 0.8309\n",
            "Epoch 18/50\n",
            "193/193 [==============================] - 61s 316ms/step - loss: 3.1784e-05 - accuracy: 1.0000 - val_loss: 2.8801 - val_accuracy: 0.8164\n",
            "Epoch 19/50\n",
            "193/193 [==============================] - 61s 314ms/step - loss: 2.7803e-05 - accuracy: 1.0000 - val_loss: 2.8763 - val_accuracy: 0.8180\n",
            "Epoch 20/50\n",
            "193/193 [==============================] - 62s 319ms/step - loss: 2.1464e-05 - accuracy: 1.0000 - val_loss: 3.0155 - val_accuracy: 0.8148\n",
            "Epoch 21/50\n",
            "193/193 [==============================] - 74s 384ms/step - loss: 1.2841e-05 - accuracy: 1.0000 - val_loss: 2.9304 - val_accuracy: 0.8245\n",
            "Epoch 22/50\n",
            "193/193 [==============================] - 61s 318ms/step - loss: 2.6004e-05 - accuracy: 1.0000 - val_loss: 3.0184 - val_accuracy: 0.8245\n",
            "Epoch 23/50\n",
            "193/193 [==============================] - 62s 322ms/step - loss: 1.3767e-05 - accuracy: 1.0000 - val_loss: 2.9258 - val_accuracy: 0.8293\n",
            "Epoch 24/50\n",
            "193/193 [==============================] - 61s 317ms/step - loss: 1.4487e-05 - accuracy: 1.0000 - val_loss: 3.0222 - val_accuracy: 0.8229\n",
            "Epoch 25/50\n",
            "193/193 [==============================] - 62s 319ms/step - loss: 1.1862e-05 - accuracy: 1.0000 - val_loss: 3.1636 - val_accuracy: 0.8148\n",
            "Epoch 26/50\n",
            "193/193 [==============================] - 61s 316ms/step - loss: 1.0530e-05 - accuracy: 1.0000 - val_loss: 3.0797 - val_accuracy: 0.8245\n",
            "Epoch 27/50\n",
            "193/193 [==============================] - 61s 315ms/step - loss: 0.1502 - accuracy: 0.9901 - val_loss: 2.4132 - val_accuracy: 0.4364\n",
            "Epoch 28/50\n",
            "193/193 [==============================] - 63s 325ms/step - loss: 0.5340 - accuracy: 0.7767 - val_loss: 1.2105 - val_accuracy: 0.6683\n",
            "Epoch 29/50\n",
            "193/193 [==============================] - 61s 318ms/step - loss: 0.0932 - accuracy: 0.9660 - val_loss: 0.7679 - val_accuracy: 0.8293\n",
            "Epoch 30/50\n",
            "193/193 [==============================] - 61s 317ms/step - loss: 0.0876 - accuracy: 0.9690 - val_loss: 0.6577 - val_accuracy: 0.8422\n",
            "Epoch 31/50\n",
            "193/193 [==============================] - 61s 314ms/step - loss: 0.0277 - accuracy: 0.9917 - val_loss: 1.7435 - val_accuracy: 0.6876\n",
            "Epoch 32/50\n",
            "193/193 [==============================] - 61s 314ms/step - loss: 0.0223 - accuracy: 0.9929 - val_loss: 1.1833 - val_accuracy: 0.8245\n",
            "Epoch 33/50\n",
            "193/193 [==============================] - 61s 315ms/step - loss: 0.0118 - accuracy: 0.9956 - val_loss: 1.5914 - val_accuracy: 0.7810\n",
            "Epoch 34/50\n",
            "193/193 [==============================] - 60s 312ms/step - loss: 0.0300 - accuracy: 0.9906 - val_loss: 1.0504 - val_accuracy: 0.8325\n",
            "Epoch 35/50\n",
            "193/193 [==============================] - 61s 315ms/step - loss: 0.0015 - accuracy: 0.9997 - val_loss: 1.2258 - val_accuracy: 0.8277\n",
            "Epoch 36/50\n",
            "193/193 [==============================] - 61s 314ms/step - loss: 0.0296 - accuracy: 0.9896 - val_loss: 1.4823 - val_accuracy: 0.7729\n",
            "Epoch 37/50\n",
            "193/193 [==============================] - 61s 315ms/step - loss: 0.0247 - accuracy: 0.9909 - val_loss: 1.0391 - val_accuracy: 0.8341\n",
            "Epoch 38/50\n",
            "193/193 [==============================] - 61s 315ms/step - loss: 7.3438e-04 - accuracy: 1.0000 - val_loss: 1.1721 - val_accuracy: 0.8341\n",
            "Epoch 39/50\n",
            "193/193 [==============================] - 60s 312ms/step - loss: 0.0246 - accuracy: 0.9904 - val_loss: 1.0259 - val_accuracy: 0.8277\n",
            "Epoch 40/50\n",
            "193/193 [==============================] - 61s 313ms/step - loss: 0.0274 - accuracy: 0.9922 - val_loss: 0.9470 - val_accuracy: 0.8003\n",
            "Epoch 41/50\n",
            "193/193 [==============================] - 61s 317ms/step - loss: 0.0112 - accuracy: 0.9969 - val_loss: 1.1875 - val_accuracy: 0.8213\n",
            "Epoch 42/50\n",
            "193/193 [==============================] - 61s 316ms/step - loss: 0.0074 - accuracy: 0.9976 - val_loss: 1.6277 - val_accuracy: 0.8068\n",
            "Epoch 43/50\n",
            "193/193 [==============================] - 61s 316ms/step - loss: 0.0226 - accuracy: 0.9914 - val_loss: 1.3489 - val_accuracy: 0.8052\n",
            "Epoch 44/50\n",
            "193/193 [==============================] - 60s 310ms/step - loss: 0.0467 - accuracy: 0.9853 - val_loss: 0.9607 - val_accuracy: 0.8277\n",
            "Epoch 45/50\n",
            "193/193 [==============================] - 60s 311ms/step - loss: 0.0013 - accuracy: 0.9998 - val_loss: 1.3275 - val_accuracy: 0.8245\n",
            "Epoch 46/50\n",
            "193/193 [==============================] - 61s 314ms/step - loss: 4.0940e-04 - accuracy: 1.0000 - val_loss: 1.5830 - val_accuracy: 0.8245\n",
            "Epoch 47/50\n",
            "193/193 [==============================] - 60s 312ms/step - loss: 1.6674e-04 - accuracy: 1.0000 - val_loss: 1.5615 - val_accuracy: 0.8261\n",
            "Epoch 48/50\n",
            "193/193 [==============================] - 60s 312ms/step - loss: 7.0832e-05 - accuracy: 1.0000 - val_loss: 1.7050 - val_accuracy: 0.8277\n",
            "Epoch 49/50\n",
            "193/193 [==============================] - 60s 313ms/step - loss: 6.2485e-05 - accuracy: 1.0000 - val_loss: 1.7722 - val_accuracy: 0.8229\n",
            "Epoch 50/50\n",
            "193/193 [==============================] - 60s 312ms/step - loss: 4.9409e-05 - accuracy: 1.0000 - val_loss: 1.8756 - val_accuracy: 0.8229\n"
          ]
        }
      ]
    },
    {
      "cell_type": "code",
      "source": [
        "acc = history.history['accuracy']\n",
        "val_acc = history.history['val_accuracy']\n",
        "\n",
        "loss = history.history['loss']\n",
        "val_loss = history.history['val_loss']"
      ],
      "metadata": {
        "id": "kFzPh5k5Fb4d"
      },
      "execution_count": null,
      "outputs": []
    },
    {
      "cell_type": "code",
      "source": [
        "# Plot the procces of the trainig and validating of the model\n",
        "len_epoch = 50\n",
        "plt.figure(figsize=(8, 8))\n",
        "plt.subplot(1, 2, 1)\n",
        "plt.plot(np.arange(len_epoch),acc, label='Training Accuracy')\n",
        "plt.plot(np.arange(len_epoch), val_acc, label='Validation Accuracy')\n",
        "plt.legend(loc='lower right')\n",
        "plt.title('Training and Validation Accuracy')\n",
        "\n",
        "plt.subplot(1, 2, 2)\n",
        "plt.plot(np.arange(len_epoch), loss, label='Training Loss')\n",
        "plt.plot(np.arange(len_epoch), val_loss, label='Validation Loss')\n",
        "plt.legend(loc='upper right')\n",
        "plt.title('Training and Validation Loss')\n",
        "plt.show()"
      ],
      "metadata": {
        "colab": {
          "base_uri": "https://localhost:8080/",
          "height": 498
        },
        "id": "lS9O6aspvRna",
        "outputId": "97fb151b-d514-437f-c5a3-71f689e74e01"
      },
      "execution_count": null,
      "outputs": [
        {
          "output_type": "display_data",
          "data": {
            "image/png": "[encoded data removed]",
            "text/plain": [
              "<Figure size 576x576 with 2 Axes>"
            ]
          },
          "metadata": {
            "needs_background": "light"
          }
        }
      ]
    },
    {
      "cell_type": "code",
      "source": [
        "# saving the model when the validation images splited from video:\n",
        "model.save(\"/content/drive/MyDrive/gdrive_folder/models/GW_classification.50_epoch\")"
      ],
      "metadata": {
        "colab": {
          "base_uri": "https://localhost:8080/"
        },
        "id": "B5LutRxnvVDj",
        "outputId": "bf97b26e-e080-43d6-c413-4fd29687f35d"
      },
      "execution_count": null,
      "outputs": [
        {
          "output_type": "stream",
          "name": "stdout",
          "text": [
            "INFO:tensorflow:Assets written to: /content/drive/MyDrive/gdrive_folder/models/GW_classification.50_epoch/assets\n"
          ]
        }
      ]
    },
    {
      "cell_type": "code",
      "source": [
        "score = model.evaluate(test_ds)"
      ],
      "metadata": {
        "colab": {
          "base_uri": "https://localhost:8080/"
        },
        "id": "L6lHuC4TFovI",
        "outputId": "ecaad91f-f2cb-49d4-f362-e34cbd2d18a8"
      },
      "execution_count": null,
      "outputs": [
        {
          "output_type": "stream",
          "name": "stdout",
          "text": [
            "4/4 [==============================] - 24s 175ms/step - loss: 0.8171 - accuracy: 0.9065\n"
          ]
        }
      ]
    }
  ]
}